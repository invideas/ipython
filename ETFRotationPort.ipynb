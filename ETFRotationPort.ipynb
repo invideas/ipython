{
 "metadata": {
  "name": "",
  "signature": "sha256:d9f769e4a97d396bb6062b000587d819d64310fadf03973d3a6d7c5962ddec1f"
 },
 "nbformat": 3,
 "nbformat_minor": 0,
 "worksheets": [
  {
   "cells": [
    {
     "cell_type": "code",
     "collapsed": false,
     "input": [
      "# Import libraries\n",
      "from datetime import date, datetime, timedelta\n",
      "import datetime as dt\n",
      "import matplotlib.pyplot as plt\n",
      "import pandas as pd\n",
      "import numpy as np\n",
      "from sklearn import cluster \n",
      "from array import array\n",
      "\n",
      "import ystockquote as ysq  # stock prices\n",
      "\n",
      "from IPython.core.display import HTML\n",
      "\n",
      "%matplotlib inline"
     ],
     "language": "python",
     "metadata": {},
     "outputs": [],
     "prompt_number": 7
    },
    {
     "cell_type": "markdown",
     "metadata": {},
     "source": [
      "# Stocks\n",
      "This is the list of your stocks selection"
     ]
    },
    {
     "cell_type": "code",
     "collapsed": false,
     "input": [
      "#fname=\"etf_clean.txt\"\n",
      "fname=\"UltimateETFRot\"\n",
      "\n",
      "with open(fname) as f:\n",
      "     stocks = [x.strip('\\n') for x in f.readlines()]\n",
      "print stocks\n"
     ],
     "language": "python",
     "metadata": {},
     "outputs": [
      {
       "output_type": "stream",
       "stream": "stdout",
       "text": [
        "['SPY', 'IWM', 'EEM', 'EFA', 'AGG', 'TLT', 'SH', 'DBC']\n"
       ]
      }
     ],
     "prompt_number": 8
    },
    {
     "cell_type": "code",
     "collapsed": false,
     "input": [
      "\n",
      "\n",
      "import csv\n",
      "import urllib2\n",
      "from pandas.io.data import DataReader\n",
      "\n",
      "enddate = datetime.now() + timedelta(days=-1) #When is yahoo posting today's close?, this is yesterday close\n",
      "days_to_subtract = -365\n",
      "startdate = enddate + timedelta(days=days_to_subtract)\n",
      "\n",
      "# Download historical price data from Yahoo Finance to a PANDAS DataFrame\n",
      "df = pd.io.data.get_data_yahoo(stocks,start=startdate.strftime(\"%Y-%m-%d\"),end=enddate.strftime(\"%Y-%m-%d\"))['Adj Close']\n",
      "# Calculate daily returns for the Tickers in the DataFrame\n",
      "rets = df.pct_change()\n",
      "# Calculate the Correlation for the daily returns of the Tickers\n",
      "corr = rets.corr()\n",
      "# Print the Correlation Matrix\n",
      "#print '\\n' + 'Correlation Matrix' + '\\n'\n",
      "#rets.corr()\n",
      "corr.to_excel(\"ETF_Correlation.xls\")"
     ],
     "language": "python",
     "metadata": {},
     "outputs": [],
     "prompt_number": 9
    },
    {
     "cell_type": "code",
     "collapsed": false,
     "input": [
      "##Crap estos bid ask de yahoo estan todos mal..\n",
      "\n",
      "url = 'http://finance.yahoo.com/d/quotes.csv?s='+\"+\".join(stocks)+'&f=sb2b3p'\n",
      "#print url\n",
      "response = urllib2.urlopen(url)\n",
      "cr = csv.reader(response)\n",
      "bidframe = pd.DataFrame( columns=['Ask','Bid','Close'])\n",
      "\n",
      "for row in cr:\n",
      "    bidframe.loc[row[0]]=row[1:]\n",
      "\n",
      "# bidframe['spread_per']= pd.Series((bidframe['Ask'].astype(float)- bidframe['Bid'].astype(float))/bidframe['Close'].astype(float))\n",
      "\n",
      "print bidframe.sort(columns=\"Ask\")"
     ],
     "language": "python",
     "metadata": {},
     "outputs": [
      {
       "output_type": "stream",
       "stream": "stdout",
       "text": [
        "        Ask     Bid   Close\n",
        "AGG  110.85  110.30  110.12\n",
        "IWM  119.22  118.90  119.62\n",
        "TLT  127.37  126.60  125.92\n",
        "SPY  205.75  204.95  205.54\n",
        "DBC   21.76   18.00   18.45\n",
        "SH    22.10   21.83   21.78\n",
        "EEM   39.50   38.60   39.29\n",
        "EFA   62.50   60.00   60.84\n"
       ]
      }
     ],
     "prompt_number": 10
    },
    {
     "cell_type": "code",
     "collapsed": false,
     "input": [
      "#Este metodo solo usa expense ratio para dejar el ETF mas barato, no es lo mas optimo, hay que buscar los que tienen menor spread en % a su precio\n",
      "#Tambien hay que considerar poner solo un ETF por categoria\n",
      "\n",
      "cor = corr.copy()\n",
      "fname=\"UltimateETFRot_ER.txt\"\n",
      "stocks_er = pd.read_table(fname)\n",
      "stocks_er.index = stocks_er[\"Symbol\"]\n",
      "# print stocks_er\n",
      "\n",
      "for i in stocks:\n",
      "        if i in cor.keys() :\n",
      "            correlated= cor[cor[i] > 0.9]\n",
      "            print \"For equity \",i\n",
      "            merge= correlated.merge(stocks_er,right_index=True,left_index=True)\n",
      "            best= merge.sort(columns=\"ER\",ascending=True).head(1).index\n",
      "            print best\n",
      "            remove = merge.index - best\n",
      "            print \"Keep: \",best, \"Remove: \",remove\n",
      "            cor = cor.drop(remove,axis=0)\n",
      "        \n",
      "cor.to_excel(\"ETF_Uncorrelated.xls\")\n",
      "print \"Uncorrelated ETFs:\", cor.index\n"
     ],
     "language": "python",
     "metadata": {},
     "outputs": [
      {
       "output_type": "stream",
       "stream": "stdout",
       "text": [
        "For equity  SPY\n",
        "Index([u'SPY'], dtype='object')\n",
        "Keep:  Index([u'SPY'], dtype='object') Remove:  Index([], dtype='object')\n",
        "For equity  IWM\n",
        "Index([u'IWM'], dtype='object')\n",
        "Keep:  Index([u'IWM'], dtype='object') Remove:  Index([], dtype='object')\n",
        "For equity  EEM\n",
        "Index([u'EEM'], dtype='object')\n",
        "Keep:  Index([u'EEM'], dtype='object') Remove:  Index([], dtype='object')\n",
        "For equity  EFA\n",
        "Index([u'EFA'], dtype='object')\n",
        "Keep:  Index([u'EFA'], dtype='object') Remove:  Index([], dtype='object')\n",
        "For equity  AGG\n",
        "Index([u'AGG'], dtype='object')\n",
        "Keep:  Index([u'AGG'], dtype='object') Remove:  Index([], dtype='object')\n",
        "For equity  TLT\n",
        "Index([u'TLT'], dtype='object')\n",
        "Keep:  Index([u'TLT'], dtype='object') Remove:  Index([], dtype='object')\n",
        "For equity  SH\n",
        "Index([], dtype='object')\n",
        "Keep:  Index([], dtype='object') Remove:  Index([], dtype='object')\n",
        "For equity  DBC\n",
        "Index([], dtype='object')\n",
        "Keep:  Index([], dtype='object') Remove:  Index([], dtype='object')\n",
        "Uncorrelated ETFs: Index([u'AGG', u'DBC', u'EEM', u'EFA', u'IWM', u'SH', u'SPY', u'TLT'], dtype='object')\n"
       ]
      }
     ],
     "prompt_number": 11
    },
    {
     "cell_type": "code",
     "collapsed": false,
     "input": [
      "stocks = cor.index\n",
      "enddate = datetime.now() + timedelta(days=-1) #When is yahoo posting today's close?, this is yesterday close\n",
      "\n",
      "#En esta fecha la autora del libro hizo un cambio de ETF en su portafolio utilizando el algoritmo, \n",
      "#Al cambiar 9 de abril por 10 de abril el resultado cambia drasticamente. \n",
      "#enddate = datetime(2014, 04, 9, 18, 00)\n",
      "\n",
      "days_to_subtract = -140/5*7\n",
      "startdate = enddate + timedelta(days=days_to_subtract)\n",
      "\n",
      "enddateStr = enddate.strftime(\"%Y-%m-%d\")\n",
      "startdateStr = startdate.strftime(\"%Y-%m-%d\")\n",
      "stock_closes = {}\n",
      "stock_returns = {}\n",
      "\n",
      "print \"Period from : \",startdateStr, \" to: \", enddateStr\n",
      "myDataFrame = pd.DataFrame( columns=['start', 'end', 'return'])\n",
      "for stock in stocks:\n",
      "    x = ysq.get_historical_prices(stock, startdateStr, startdateStr)\n",
      "    startPrice= float(x.values()[0]['Adj Close'])\n",
      "    \n",
      "    x = ysq.get_historical_prices(stock, enddateStr, enddateStr)\n",
      "    endPrice= float(x.values()[0]['Adj Close']) \n",
      "    \n",
      "    myDataFrame.loc[stock] =  [startPrice, endPrice, endPrice/startPrice]\n",
      "\n",
      "\n",
      "print myDataFrame.sort(columns=\"return\",ascending=False)\n"
     ],
     "language": "python",
     "metadata": {},
     "outputs": [
      {
       "output_type": "stream",
       "stream": "stdout",
       "text": [
        "Period from :  2014-06-20  to:  2015-01-02\n",
        "      start     end    return\n",
        "TLT  109.94  127.32  1.158086\n",
        "SPY  193.96  205.43  1.059136\n",
        "AGG  107.34  110.43  1.028787\n",
        "IWM  117.04  118.93  1.016148\n",
        "SH    23.37   21.81  0.933248\n",
        "EEM   42.61   38.77  0.909880\n",
        "EFA   68.19   60.58  0.888400\n",
        "DBC   26.92   18.23  0.677192"
       ]
      },
      {
       "output_type": "stream",
       "stream": "stdout",
       "text": [
        "\n"
       ]
      }
     ],
     "prompt_number": 12
    },
    {
     "cell_type": "code",
     "collapsed": false,
     "input": [],
     "language": "python",
     "metadata": {},
     "outputs": [],
     "prompt_number": 12
    }
   ],
   "metadata": {}
  }
 ]
}